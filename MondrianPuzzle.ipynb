{
 "cells": [
  {
   "cell_type": "code",
   "execution_count": 522,
   "metadata": {
    "scrolled": true
   },
   "outputs": [],
   "source": [
    "import numpy as np\n",
    "\n",
    "possible_rectangles = [];\n",
    "results = []\n",
    "n = 5"
   ]
  },
  {
   "cell_type": "code",
   "execution_count": 523,
   "metadata": {},
   "outputs": [],
   "source": [
    "def find_all_possible_rectangles(n):\n",
    "    for i in range(1, n):\n",
    "        for j in range(1, n+1):\n",
    "            if i > j:\n",
    "                continue;\n",
    "            else:\n",
    "                single_rectangle = (i,j,i*j)\n",
    "                possible_rectangles.append(single_rectangle)\n",
    "\n"
   ]
  },
  {
   "cell_type": "code",
   "execution_count": 524,
   "metadata": {},
   "outputs": [
    {
     "name": "stdout",
     "output_type": "stream",
     "text": [
      "(1, 1, 1)\n",
      "(1, 2, 2)\n",
      "(1, 3, 3)\n",
      "(1, 4, 4)\n",
      "(1, 5, 5)\n",
      "(2, 2, 4)\n",
      "(2, 3, 6)\n",
      "(2, 4, 8)\n",
      "(2, 5, 10)\n",
      "(3, 3, 9)\n",
      "(3, 4, 12)\n",
      "(3, 5, 15)\n",
      "(4, 4, 16)\n",
      "(4, 5, 20)\n"
     ]
    }
   ],
   "source": [
    "# creating possible rectangles\n",
    "rectums = find_all_possible_rectangles(n)\n",
    "# Just checking if its alright :)\n",
    "# print possible rectangles\n",
    "for i in range(len(possible_rectangles)):\n",
    "    print(possible_rectangles[i])"
   ]
  },
  {
   "cell_type": "code",
   "execution_count": 525,
   "metadata": {},
   "outputs": [],
   "source": [
    "# Finding all possible rectangles\n",
    "def find_the_sum(array, area, result): # this can (and will) be improven\n",
    "    if sum(result) == area or area == 0:\n",
    "        return result\n",
    "    else:\n",
    "        for i in range(len(array)):\n",
    "            if array[i] < area:\n",
    "                if not array[i] in result:\n",
    "                    if array[i] + sum(result) <= area:\n",
    "                        result.append(array[i])\n",
    "                        find_the_sum(array, area - array[i], result)\n",
    "                    \n",
    "def change_array(array, next_step):\n",
    "    new_array = []\n",
    "    for i in range(len(array)):\n",
    "        if not i == next_step:\n",
    "            new_array.append(array[i])\n",
    "    return new_array\n",
    "        \n",
    "def find_rectangles(array, area, result):    \n",
    "    find_the_sum(array, area, result)\n",
    "    all_results = []\n",
    "    all_results.append(result)\n",
    "    for i in range(len(array)):\n",
    "        new_array = change_array(array, i)\n",
    "        result = []\n",
    "        find_the_sum(new_array, area, result)\n",
    "        if not result in all_results:\n",
    "            all_results.append(result)\n",
    "    return all_results"
   ]
  },
  {
   "cell_type": "code",
   "execution_count": 526,
   "metadata": {},
   "outputs": [],
   "source": [
    "# Finding optimal value\n",
    "def calculate_differences(results):\n",
    "    differences = []\n",
    "    amounts = []\n",
    "    for i in range(len(results)):\n",
    "        differences.append(max(results[i]) - min(results[i]))\n",
    "        amounts.append(len(results))\n",
    "    print(\"Smallest difference in rectangles: \", min(differences))\n",
    "    amount = amounts[differences.index(min(differences))]\n",
    "    print(\"Amount of rectangles: \", amount)\n",
    "    "
   ]
  },
  {
   "cell_type": "code",
   "execution_count": 527,
   "metadata": {},
   "outputs": [
    {
     "name": "stdout",
     "output_type": "stream",
     "text": [
      "All possible areas:  [20, 16, 15, 12, 10, 9, 8, 6, 5, 4, 4, 3, 2, 1]\n",
      "--\n",
      "Areas that will fit:  [[20, 5], [16, 9], [20, 4, 1]]\n",
      "--\n",
      "Smallest difference in rectangles:  7\n",
      "Amount of rectangles:  3\n"
     ]
    }
   ],
   "source": [
    "areas_set = [x[2] for x in possible_rectangles]\n",
    "areas_set.sort(reverse=True) # works only when its sorted decreasingly (FOR NOW)\n",
    "result = []\n",
    "\n",
    "print(\"All possible areas: \", areas_set)\n",
    "print(\"--\")\n",
    "all_results = find_rectangles(areas_set,n*n,result)\n",
    "print(\"Areas that will fit: \", all_results)\n",
    "print(\"--\")\n",
    "calculate_differences(all_results)\n"
   ]
  },
  {
   "cell_type": "raw",
   "metadata": {},
   "source": []
  }
 ],
 "metadata": {
  "kernelspec": {
   "display_name": "Python 3",
   "language": "python",
   "name": "python3"
  },
  "language_info": {
   "codemirror_mode": {
    "name": "ipython",
    "version": 3
   },
   "file_extension": ".py",
   "mimetype": "text/x-python",
   "name": "python",
   "nbconvert_exporter": "python",
   "pygments_lexer": "ipython3",
   "version": "3.7.4"
  }
 },
 "nbformat": 4,
 "nbformat_minor": 2
}
